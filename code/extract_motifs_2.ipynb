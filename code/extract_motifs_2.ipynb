{
 "cells": [
  {
   "cell_type": "code",
   "execution_count": 1,
   "metadata": {},
   "outputs": [],
   "source": [
    "import numpy as np\n",
    "import torch\n",
    "import torch.utils.data\n",
    "import matplotlib\n",
    "import os\n",
    "import sys\n",
    "matplotlib.use('Agg')\n",
    "\n",
    "import aitac\n",
    "import plot_utils\n",
    "\n",
    "import time\n",
    "from sklearn.model_selection import train_test_split\n"
   ]
  },
  {
   "cell_type": "code",
   "execution_count": 2,
   "metadata": {},
   "outputs": [],
   "source": [
    "# Device configuration\n",
    "device = torch.device('cuda:0' if torch.cuda.is_available() else 'cpu')\n"
   ]
  },
  {
   "cell_type": "code",
   "execution_count": 3,
   "metadata": {},
   "outputs": [],
   "source": [
    "# Hyper parameters\n",
    "num_classes = 141\n",
    "batch_size = 10\n",
    "num_filters = 300\n"
   ]
  },
  {
   "cell_type": "code",
   "execution_count": 4,
   "metadata": {},
   "outputs": [],
   "source": [
    "#create output figure directory\n",
    "model_name = 'mini_sample'\n",
    "output_file_path = \"../outputs/\" + model_name + \"/motifs/\"\n",
    "directory = os.path.dirname(output_file_path)\n",
    "if not os.path.exists(directory):\n",
    "    os.makedirs(directory)\n",
    "\n"
   ]
  },
  {
   "cell_type": "code",
   "execution_count": 5,
   "metadata": {},
   "outputs": [],
   "source": [
    "# Load all data\n",
    "x = np.load('../BRCA_data/mini_sample_one_hot_seqs.npy')\n",
    "x = x.astype(np.float32)\n",
    "y = np.load('../BRCA_data/mini_sample_cell_type_array.npy')\n",
    "y = y.astype(np.float32)\n",
    "peak_names = np.load('../BRCA_data/mini_sample_peak_names.npy')\n"
   ]
  },
  {
   "cell_type": "code",
   "execution_count": 6,
   "metadata": {},
   "outputs": [],
   "source": [
    "# Data loader\n",
    "dataset = torch.utils.data.TensorDataset(torch.from_numpy(x), torch.from_numpy(y))\n",
    "data_loader = torch.utils.data.DataLoader(dataset=dataset, batch_size=batch_size, shuffle=False)\n"
   ]
  },
  {
   "cell_type": "code",
   "execution_count": 7,
   "metadata": {},
   "outputs": [
    {
     "data": {
      "text/plain": [
       "<All keys matched successfully>"
      ]
     },
     "execution_count": 7,
     "metadata": {},
     "output_type": "execute_result"
    }
   ],
   "source": [
    "# load trained model\n",
    "model = aitac.ConvNet(num_classes, num_filters).to(device)\n",
    "checkpoint = torch.load('../models/' + model_name + '.ckpt')\n",
    "model.load_state_dict(checkpoint)\n"
   ]
  },
  {
   "cell_type": "code",
   "execution_count": 8,
   "metadata": {},
   "outputs": [
    {
     "data": {
      "text/plain": [
       "<All keys matched successfully>"
      ]
     },
     "execution_count": 8,
     "metadata": {},
     "output_type": "execute_result"
    }
   ],
   "source": [
    "#copy trained model weights to motif extraction model\n",
    "motif_model = aitac.motifCNN(model).to(device)\n",
    "motif_model.load_state_dict(model.state_dict())\n"
   ]
  },
  {
   "cell_type": "code",
   "execution_count": 9,
   "metadata": {},
   "outputs": [
    {
     "name": "stdout",
     "output_type": "stream",
     "text": [
      "weighted_cor is 0.6108408034010132\n",
      "number of NaN values: 0\n"
     ]
    }
   ],
   "source": [
    "# run predictions with full model on all data\n",
    "pred_full_model, max_activations, activation_idx = aitac.test_model(data_loader, model, device)\n",
    "correlations = plot_utils.plot_cors(y, pred_full_model, output_file_path)\n"
   ]
  },
  {
   "cell_type": "code",
   "execution_count": 10,
   "metadata": {},
   "outputs": [],
   "source": [
    "# find well predicted OCRs\n",
    "idx = np.argwhere(np.asarray(correlations)>0.75).squeeze()\n"
   ]
  },
  {
   "cell_type": "code",
   "execution_count": 11,
   "metadata": {},
   "outputs": [],
   "source": [
    "#get data subset for well predicted OCRs to run further test\n",
    "x2 = x[idx, :, :]\n",
    "y2 = y[idx, :]\n",
    "\n",
    "dataset = torch.utils.data.TensorDataset(torch.from_numpy(x2), torch.from_numpy(y2))\n",
    "data_loader = torch.utils.data.DataLoader(dataset=dataset, batch_size=batch_size, shuffle=False)\n"
   ]
  },
  {
   "cell_type": "code",
   "execution_count": 12,
   "metadata": {},
   "outputs": [
    {
     "name": "stdout",
     "output_type": "stream",
     "text": [
      "weighted_cor is 0.7901855047060239\n",
      "number of NaN values: 0\n"
     ]
    }
   ],
   "source": [
    "# non-modified results for well-predicted OCRs only\n",
    "pred_full_model2 = pred_full_model[idx,:]\n",
    "correlations2 = plot_utils.plot_cors(y2, pred_full_model2, output_file_path)\n"
   ]
  },
  {
   "cell_type": "code",
   "execution_count": 13,
   "metadata": {},
   "outputs": [
    {
     "name": "stdout",
     "output_type": "stream",
     "text": [
      "77.33405542373657\n"
     ]
    }
   ],
   "source": [
    "# get first layer activations and predictions with leave-one-filter-out\n",
    "start = time.time()\n",
    "activations, predictions = aitac.get_motifs(data_loader, motif_model, device)\n",
    "print(time.time()- start)\n"
   ]
  },
  {
   "cell_type": "code",
   "execution_count": 14,
   "metadata": {},
   "outputs": [
    {
     "name": "stdout",
     "output_type": "stream",
     "text": [
      "could not set the title for graph\n",
      "Replacement index 1 out of range for positional args tuple\n",
      "could not set the title for graph\n",
      "Replacement index 1 out of range for positional args tuple\n",
      "Shape of filter-wise correlations:\n",
      "(27, 300)\n",
      "Shape of filter influence:\n",
      "(27, 300)\n"
     ]
    }
   ],
   "source": [
    "#PLOTING\n",
    "filt_corr, filt_infl, ave_filt_infl = plot_utils.plot_filt_corr(predictions, y2, correlations2, output_file_path)\n"
   ]
  },
  {
   "cell_type": "code",
   "execution_count": 15,
   "metadata": {},
   "outputs": [
    {
     "name": "stdout",
     "output_type": "stream",
     "text": [
      "could not set the title for graph\n",
      "Replacement index 1 out of range for positional args tuple\n"
     ]
    }
   ],
   "source": [
    "infl, infl_by_OCR = plot_utils.plot_filt_infl(pred_full_model2, predictions, output_file_path)\n"
   ]
  },
  {
   "cell_type": "code",
   "execution_count": 16,
   "metadata": {},
   "outputs": [],
   "source": [
    "pwm, act_ind, nseqs, activated_OCRs, n_activated_OCRs, OCR_matrix = plot_utils.get_memes(activations, x2, y2, output_file_path)\n"
   ]
  },
  {
   "cell_type": "code",
   "execution_count": 17,
   "metadata": {},
   "outputs": [],
   "source": [
    "#save predictions\n",
    "np.save(output_file_path + \"filter_predictions.npy\", predictions)\n",
    "np.save(output_file_path + \"predictions.npy\", pred_full_model)\n"
   ]
  },
  {
   "cell_type": "code",
   "execution_count": 18,
   "metadata": {},
   "outputs": [],
   "source": [
    "#save correlations\n",
    "np.save(output_file_path + \"correlations.npy\", correlations)\n",
    "np.save(output_file_path + \"correlations_per_filter.npy\", filt_corr)\n"
   ]
  },
  {
   "cell_type": "code",
   "execution_count": 19,
   "metadata": {},
   "outputs": [],
   "source": [
    "#overall influence:\n",
    "np.save(output_file_path + \"influence.npy\", ave_filt_infl)\n",
    "np.save(output_file_path + \"influence_by_OCR.npy\", filt_infl)\n"
   ]
  },
  {
   "cell_type": "code",
   "execution_count": 20,
   "metadata": {},
   "outputs": [],
   "source": [
    "#influence by cell type:\n",
    "np.save(output_file_path + \"filter_cellwise_influence.npy\", infl)\n",
    "np.save(output_file_path + \"cellwise_influence_by_OCR.npy\", infl_by_OCR)\n"
   ]
  },
  {
   "cell_type": "code",
   "execution_count": 21,
   "metadata": {},
   "outputs": [],
   "source": [
    "#other metrics\n",
    "np.savetxt(output_file_path + \"nseqs_per_filters.txt\", nseqs)\n",
    "np.save(output_file_path + \"mean_OCR_activation.npy\", activated_OCRs)\n",
    "np.save(output_file_path + \"n_activated_OCRs.npy\",  n_activated_OCRs)\n",
    "np.save(output_file_path + \"OCR_matrix.npy\", OCR_matrix)\n"
   ]
  },
  {
   "cell_type": "code",
   "execution_count": 22,
   "metadata": {},
   "outputs": [
    {
     "name": "stdout",
     "output_type": "stream",
     "text": [
      "(4, 300, 81)\n"
     ]
    }
   ],
   "source": [
    "fitl_pred = np.load('../outputs/first_approach/motifs/filter_predictions.npy')\n",
    "print(fitl_pred.shape)"
   ]
  },
  {
   "cell_type": "code",
   "execution_count": 23,
   "metadata": {},
   "outputs": [
    {
     "name": "stdout",
     "output_type": "stream",
     "text": [
      "(100, 81)\n"
     ]
    }
   ],
   "source": [
    "pred = np.load('../outputs/first_approach/motifs/predictions.npy')\n",
    "print(pred.shape)"
   ]
  },
  {
   "cell_type": "code",
   "execution_count": 24,
   "metadata": {},
   "outputs": [
    {
     "name": "stdout",
     "output_type": "stream",
     "text": [
      "(100,)\n",
      "[ 0.47675767  0.40375768  0.43856965  0.34622067  0.34175713  0.33306235\n",
      "  0.36085143  0.41178661  0.47650863  0.26243808  0.49829282  0.39362301\n",
      "  0.58005024  0.3121501   0.44273265  0.29923952  0.34399613  0.45722866\n",
      "  0.04290422  0.20510039  0.23700697  0.40977453  0.39995587  0.49250575\n",
      "  0.54419714  0.59417629  0.58399674  0.37848552  0.46973537  0.56316622\n",
      "  0.44795484  0.4284225   0.41034534  0.46075243  0.60010022  0.6027513\n",
      "  0.43957152  0.66977485  0.32403217  0.35901842  0.17025956  0.6249035\n",
      "  0.49610941  0.70867305  0.63161055  0.57016048  0.77479902  0.59382748\n",
      "  0.59704294  0.61372098  0.52449654  0.78738511  0.82606442  0.80597185\n",
      "  0.5298308   0.67791769  0.32628988  0.62885986  0.69838738  0.65561966\n",
      "  0.67790521  0.51783238 -0.1070718   0.45097762  0.36749504  0.24292242\n",
      "  0.45150874  0.57062927  0.4555621   0.48499268  0.49454515  0.39996137\n",
      "  0.40682     0.59667445  0.51592891  0.1202623   0.44862352  0.67326006\n",
      "  0.74031491  0.25016936  0.35509721  0.38803889  0.29306493  0.47323665\n",
      "  0.58097396  0.61236522  0.54043267  0.59006157  0.50059706  0.49168217\n",
      "  0.46349804  0.5105518   0.58872268  0.67868361  0.48161763  0.59452812\n",
      "  0.58937232  0.54329321  0.45790944  0.61824857]\n"
     ]
    }
   ],
   "source": [
    "corr = np.load('../outputs/first_approach/motifs/correlations.npy')\n",
    "print(corr.shape)\n",
    "print(corr)"
   ]
  },
  {
   "cell_type": "code",
   "execution_count": 26,
   "metadata": {},
   "outputs": [
    {
     "name": "stdout",
     "output_type": "stream",
     "text": [
      "(4, 300)\n"
     ]
    }
   ],
   "source": [
    "corr_filter = np.load('../outputs/first_approach/motifs/correlations_per_filter.npy')\n",
    "print(corr_filter.shape)\n",
    "#print(corr_filter)"
   ]
  },
  {
   "cell_type": "code",
   "execution_count": 27,
   "metadata": {},
   "outputs": [
    {
     "name": "stdout",
     "output_type": "stream",
     "text": [
      "(300,)\n",
      "[1.06637769e-07 1.88214652e-07 5.85818634e-08 1.63259709e-07\n",
      " 2.46407326e-07 1.19791469e-07 2.66905133e-08 2.40893426e-07\n",
      " 1.98626859e-07 1.01209231e-07 1.33714193e-07 6.95548972e-08\n",
      " 2.32257736e-07 7.02706632e-08 3.97032948e-07 6.05702951e-08\n",
      " 4.39679260e-08 1.28310142e-07 2.30410839e-07 5.41441200e-07\n",
      " 1.47290983e-07 2.11355077e-08 5.34058788e-08 1.00534061e-06\n",
      " 1.91756856e-07 1.36954842e-07 1.30834185e-07 1.18577096e-07\n",
      " 1.94126163e-08 3.09706629e-07 8.07221689e-08 1.55142850e-07\n",
      " 6.35365196e-08 1.31972679e-07 2.76465086e-07 1.01283946e-07\n",
      " 2.94435637e-08 6.08434691e-08 7.66887126e-08 4.13737483e-07\n",
      " 7.96533715e-08 2.24572912e-09 9.53475706e-08 5.60325242e-08\n",
      " 7.45111346e-08 1.17896093e-07 6.97362070e-08 1.54267003e-07\n",
      " 1.89749798e-07 1.92105551e-07 4.73060523e-08 2.41113845e-08\n",
      " 5.36700165e-07 1.65246702e-08 9.10137078e-08 1.49676195e-07\n",
      " 3.40157582e-07 2.16780632e-07 3.24955815e-07 5.45600470e-07\n",
      " 2.41558239e-07 7.80055891e-08 2.00686572e-07 7.26958767e-08\n",
      " 8.20406232e-08 1.69103892e-07 1.42942817e-08 3.42368414e-08\n",
      " 7.83475584e-08 9.85874366e-08 6.98928043e-08 8.35988088e-07\n",
      " 4.07683755e-08 2.83927671e-07 6.91343549e-08 1.66940560e-07\n",
      " 1.18676705e-07 6.03347628e-09 8.07451342e-08 3.32337862e-07\n",
      " 1.54854995e-07 2.10660013e-07 7.14121735e-08 3.81112218e-08\n",
      " 4.44830249e-07 2.05568874e-07 2.77414704e-07 4.55405048e-07\n",
      " 1.24177264e-07 1.96462068e-07 1.37585829e-07 1.41698151e-07\n",
      " 4.05687094e-07 2.63080821e-07 2.08056844e-08 6.29220356e-08\n",
      " 6.18891876e-08 1.61161371e-07 2.63310938e-07 1.70687310e-07\n",
      " 7.90836253e-08 4.30547675e-07 1.54899631e-07 5.31213825e-08\n",
      " 8.06594920e-08 6.99978954e-08 8.30693120e-08 1.61090157e-07\n",
      " 3.37474405e-08 2.47316628e-07 8.45905793e-08 1.11047914e-07\n",
      " 1.73431087e-07 1.59067419e-07 1.31260556e-07 1.23663516e-07\n",
      " 1.79002707e-07 1.58142499e-08 1.01283612e-07 1.17489461e-07\n",
      " 1.76362497e-07 7.72026553e-09 4.46792803e-08 1.64000483e-07\n",
      " 4.07300748e-08 2.15992416e-08 3.96449215e-08 1.22279730e-07\n",
      " 9.06155926e-08 1.74763350e-07 2.17137557e-07 1.16307960e-07\n",
      " 8.87245912e-09 1.52038276e-09 4.27530606e-07 3.07658770e-08\n",
      " 2.64135077e-08 2.47419529e-07 2.89565789e-08 4.96569212e-08\n",
      " 5.01353645e-07 1.53328264e-07 9.87439088e-08 1.24354810e-07\n",
      " 1.47621311e-07 2.60114272e-08 3.00576670e-07 1.86706705e-07\n",
      " 8.84589556e-08 2.49462728e-07 1.08881337e-07 1.07154571e-07\n",
      " 1.34526239e-07 8.28129910e-08 5.89625348e-08 4.47981318e-10\n",
      " 1.98296889e-07 9.13507156e-08 3.85117822e-07 2.79958562e-08\n",
      " 6.53070062e-08 3.02290466e-07 1.11564174e-07 1.07047338e-07\n",
      " 1.08079193e-07 3.98031082e-07 4.91401783e-08 1.45114406e-07\n",
      " 3.15171013e-08 5.53413366e-08 2.65733542e-07 1.02438101e-07\n",
      " 2.91804129e-07 4.79993628e-08 9.42052885e-08 9.27203441e-08\n",
      " 1.45404097e-07 2.34394073e-08 1.11084504e-07 8.08908993e-08\n",
      " 1.75403878e-07 6.99896008e-08 1.30384435e-07 1.51353980e-07\n",
      " 9.03708208e-08 1.15930395e-07 1.59902897e-08 2.64381598e-07\n",
      " 2.97003023e-07 1.56618378e-07 1.62506331e-07 2.93751711e-07\n",
      " 2.78835869e-07 1.59832565e-07 1.67451904e-07 2.25491169e-07\n",
      " 4.99121514e-07 2.24332989e-07 9.58597196e-08 2.70065160e-07\n",
      " 1.56915991e-07 1.55963174e-08 4.13838508e-07 3.86960501e-07\n",
      " 8.61549143e-08 7.36338846e-08 2.45077190e-08 1.78667448e-07\n",
      " 2.55037389e-07 1.13525291e-07 4.23141479e-08 2.88390707e-08\n",
      " 8.16098107e-09 1.13299514e-07 9.91585113e-08 7.07367025e-08\n",
      " 3.63685227e-07 8.64362312e-09 1.89715274e-07 2.48286664e-07\n",
      " 3.94219909e-07 4.04506682e-07 7.67423041e-08 5.26159055e-08\n",
      " 3.26809679e-08 7.56207856e-08 3.51014722e-08 6.18443163e-08\n",
      " 7.82476659e-08 1.49864350e-07 1.10694742e-07 5.03362455e-07\n",
      " 2.38033267e-07 7.66745659e-07 5.55832341e-08 5.57151665e-08\n",
      " 1.45823559e-07 9.70398600e-08 3.42884024e-07 1.84165000e-07\n",
      " 1.14058399e-07 1.28578428e-07 2.91563394e-07 2.24608061e-07\n",
      " 8.22079888e-08 3.18660817e-07 2.43680274e-07 1.28005632e-07\n",
      " 1.27472649e-07 4.47431507e-07 7.09412389e-08 7.28718076e-08\n",
      " 5.66624162e-08 2.52117051e-07 1.84823653e-08 4.21736403e-08\n",
      " 3.83346114e-07 6.14438237e-08 1.55082474e-07 2.67686298e-07\n",
      " 4.15244068e-07 3.58426433e-07 6.48513884e-08 2.24213956e-07\n",
      " 1.87018833e-07 1.32665361e-07 1.48695771e-07 1.57360390e-07\n",
      " 8.46775351e-09 8.14515036e-08 5.56182064e-08 7.98395262e-08\n",
      " 7.52039044e-07 1.48406409e-07 1.58493855e-07 4.46185463e-09\n",
      " 4.46987262e-08 5.47793718e-08 2.64192163e-07 7.83288286e-08\n",
      " 1.13179826e-07 2.33747508e-07 3.00337771e-07 1.42889170e-07\n",
      " 2.23624563e-07 2.55245506e-07 1.69869854e-08 2.45827868e-07\n",
      " 1.37497608e-07 7.07436562e-08 1.97008292e-07 5.38685624e-08\n",
      " 2.83419053e-08 8.30510276e-08 5.12412832e-08 1.43452572e-07\n",
      " 2.66487758e-08 3.09613010e-08 2.40341128e-07 1.21249624e-07]\n"
     ]
    }
   ],
   "source": [
    "infl = np.load('../outputs/first_approach/motifs/influence.npy')\n",
    "print(infl.shape)\n",
    "print(infl)"
   ]
  },
  {
   "cell_type": "code",
   "execution_count": 28,
   "metadata": {},
   "outputs": [
    {
     "name": "stdout",
     "output_type": "stream",
     "text": [
      "(4, 300)\n",
      "[[1.60859885e-07 1.66444582e-07 1.38686120e-08 ... 5.56852008e-10\n",
      "  1.73122197e-07 2.33318312e-08]\n",
      " [1.39155826e-10 2.37573326e-08 5.31088516e-08 ... 1.61771687e-08\n",
      "  4.59046313e-08 3.21955786e-08]\n",
      " [2.52579880e-07 8.13380674e-09 3.05329318e-08 ... 2.98002981e-08\n",
      "  2.16931859e-07 3.71149841e-07]\n",
      " [1.29721569e-08 5.54522886e-07 1.36817058e-07 ... 7.73108852e-08\n",
      "  5.25405823e-07 5.83212453e-08]]\n"
     ]
    }
   ],
   "source": [
    "infl_ocr = np.load('../outputs/first_approach/motifs/influence_by_OCR.npy')\n",
    "print(infl_ocr.shape)\n",
    "print(infl_ocr)"
   ]
  },
  {
   "cell_type": "code",
   "execution_count": 29,
   "metadata": {},
   "outputs": [
    {
     "name": "stdout",
     "output_type": "stream",
     "text": [
      "(300, 81)\n",
      "[[2.78251400e-06 2.69042794e-05 1.48753279e-05 ... 1.21165858e-05\n",
      "  2.51902122e-07 1.52528582e-05]\n",
      " [2.00672798e-06 4.20817523e-05 1.65379079e-05 ... 1.70422336e-05\n",
      "  3.04177007e-07 3.75397758e-05]\n",
      " [1.34896652e-06 2.86930172e-05 1.40840957e-05 ... 2.27190558e-05\n",
      "  1.01004264e-06 2.77765012e-05]\n",
      " ...\n",
      " [1.96082601e-06 1.88911326e-05 1.48243789e-05 ... 1.84044293e-05\n",
      "  1.12887392e-06 1.81113719e-05]\n",
      " [7.97796929e-06 5.71771379e-05 3.75082309e-05 ... 1.47347837e-05\n",
      "  9.74385216e-07 5.44135110e-05]\n",
      " [2.23765642e-06 1.15168805e-05 8.62323122e-06 ... 6.44846386e-06\n",
      "  3.56151190e-07 8.70548593e-06]]\n"
     ]
    }
   ],
   "source": [
    "filt_cell_infl = np.load('../outputs/first_approach/motifs/filter_cellwise_influence.npy')\n",
    "print(filt_cell_infl.shape)\n",
    "print(filt_cell_infl)"
   ]
  },
  {
   "cell_type": "code",
   "execution_count": 30,
   "metadata": {},
   "outputs": [
    {
     "name": "stdout",
     "output_type": "stream",
     "text": [
      "(4, 300, 81)\n",
      "[[[1.08684475e-07 3.33902381e-06 7.97451867e-06 ... 2.96143199e-09\n",
      "   5.51276798e-07 1.41392438e-05]\n",
      "  [7.40139058e-06 3.37265847e-05 1.82913773e-05 ... 3.89154138e-07\n",
      "   3.24758986e-07 4.01642028e-05]\n",
      "  [1.15642513e-06 1.35533019e-05 7.98125257e-06 ... 5.19621153e-06\n",
      "   1.49919299e-06 8.86864382e-06]\n",
      "  ...\n",
      "  [2.93717835e-06 1.37263251e-05 9.97072493e-06 ... 3.33413851e-07\n",
      "   1.36498898e-06 1.99882779e-05]\n",
      "  [5.23296103e-06 8.38103006e-05 3.49504044e-05 ... 1.88634876e-05\n",
      "   4.57745086e-09 8.04158626e-05]\n",
      "  [1.56779140e-06 8.68113602e-06 1.37499592e-06 ... 1.26503926e-06\n",
      "   1.28628717e-08 1.51008753e-05]]\n",
      "\n",
      " [[2.58192495e-06 2.59086883e-05 9.64981609e-06 ... 1.79792187e-06\n",
      "   4.37121344e-08 9.19789727e-06]\n",
      "  [4.24230429e-09 4.19376120e-05 3.46323259e-06 ... 3.15388897e-05\n",
      "   1.22488501e-07 4.45000078e-05]\n",
      "  [1.62084837e-06 8.17582113e-05 2.55681971e-05 ... 7.90369231e-05\n",
      "   1.05556921e-06 8.46176408e-05]\n",
      "  ...\n",
      "  [1.03126894e-08 2.42152564e-05 3.23812819e-05 ... 2.35135412e-05\n",
      "   2.76203696e-06 2.95656846e-05]\n",
      "  [1.06409084e-06 4.38684692e-05 2.94200217e-05 ... 1.40278489e-05\n",
      "   5.74586181e-07 7.25407590e-05]\n",
      "  [2.93521680e-07 2.05058968e-05 8.80273546e-06 ... 1.44339210e-05\n",
      "   2.43318397e-07 1.58473667e-05]]\n",
      "\n",
      " [[8.40864232e-06 7.79175243e-05 4.13529488e-05 ... 4.57169590e-05\n",
      "   2.31400392e-08 3.75708114e-05]\n",
      "  [6.04688353e-07 8.44488532e-05 4.21586919e-05 ... 3.39609869e-05\n",
      "   7.69260396e-07 5.76532875e-05]\n",
      "  [1.95402095e-06 1.63211407e-05 1.80882635e-05 ... 6.08053415e-06\n",
      "   2.37675906e-08 1.61013140e-05]\n",
      "  ...\n",
      "  [3.30675425e-06 3.50766677e-05 1.09827170e-05 ... 4.78024303e-05\n",
      "   2.53402533e-07 2.21713635e-05]\n",
      "  [1.35433193e-05 9.40437603e-05 8.46637049e-05 ... 2.38054927e-05\n",
      "   3.18684624e-06 6.44789397e-05]\n",
      "  [6.64081062e-06 1.66356822e-05 2.38832035e-05 ... 4.37062135e-06\n",
      "   9.08415018e-07 3.60689523e-06]]\n",
      "\n",
      " [[3.08049266e-08 4.51881306e-07 5.24028906e-07 ... 9.48500883e-07\n",
      "   3.89479567e-07 1.03482051e-07]\n",
      "  [1.65908922e-08 8.21395588e-06 2.23833422e-06 ... 2.27990267e-06\n",
      "   2.00184369e-10 7.84160056e-06]\n",
      "  [6.64571814e-07 3.13940814e-06 4.69867246e-06 ... 5.62552600e-07\n",
      "   1.46164075e-06 1.51840709e-06]\n",
      "  ...\n",
      "  [1.58905846e-06 2.54627685e-06 5.96279278e-06 ... 1.96833639e-06\n",
      "   1.35067125e-07 7.20157800e-07]\n",
      "  [1.20715031e-05 6.98602162e-06 9.98782525e-07 ... 2.24230439e-06\n",
      "   1.31530911e-07 2.18481105e-07]\n",
      "  [4.48501964e-07 2.44805420e-07 4.31991253e-07 ... 5.72427325e-06\n",
      "   2.60008505e-07 2.66807206e-07]]]\n"
     ]
    }
   ],
   "source": [
    "cell_infl_ocr = np.load('../outputs/first_approach/motifs/cellwise_influence_by_OCR.npy')\n",
    "print(cell_infl_ocr.shape)\n",
    "print(cell_infl_ocr)"
   ]
  },
  {
   "cell_type": "code",
   "execution_count": 31,
   "metadata": {},
   "outputs": [
    {
     "name": "stdout",
     "output_type": "stream",
     "text": [
      "6.500000000000000000e+01\n",
      "\n",
      "<_io.TextIOWrapper name='../outputs/first_approach/motifs/nseqs_per_filters.txt' mode='rt' encoding='UTF-8'>\n"
     ]
    }
   ],
   "source": [
    "nsew_filter = open('../outputs/first_approach/motifs/nseqs_per_filters.txt','rt')\n",
    "print(nsew_filter.readline())\n",
    "print(nsew_filter)\n",
    "nsew_filter.close()"
   ]
  },
  {
   "cell_type": "code",
   "execution_count": 32,
   "metadata": {},
   "outputs": [
    {
     "name": "stdout",
     "output_type": "stream",
     "text": [
      "(300, 81)\n",
      "[[2.41208673 1.7952466  2.08129239 ... 3.75345469 2.96064448 2.63983297]\n",
      " [2.41208673 1.7952466  2.08129239 ... 3.75345469 2.96064448 2.63983297]\n",
      " [2.41208673 1.7952466  2.08129239 ... 3.75345469 2.96064448 2.63983297]\n",
      " ...\n",
      " [2.41208673 1.7952466  2.08129239 ... 3.75345469 2.96064448 2.63983297]\n",
      " [2.41208673 1.7952466  2.08129239 ... 3.75345469 2.96064448 2.63983297]\n",
      " [2.41208673 1.7952466  2.08129239 ... 3.75345469 2.96064448 2.63983297]]\n"
     ]
    }
   ],
   "source": [
    "mean_ocr_activ = np.load('../outputs/first_approach/motifs/mean_OCR_activation.npy')\n",
    "print(mean_ocr_activ.shape)\n",
    "print(mean_ocr_activ)"
   ]
  },
  {
   "cell_type": "code",
   "execution_count": 33,
   "metadata": {},
   "outputs": [
    {
     "name": "stdout",
     "output_type": "stream",
     "text": [
      "(300,)\n",
      "[4. 4. 4. 4. 4. 4. 4. 4. 4. 4. 4. 3. 4. 4. 4. 4. 4. 4. 4. 4. 4. 4. 4. 4.\n",
      " 4. 4. 4. 4. 3. 4. 4. 4. 4. 4. 4. 4. 4. 4. 4. 4. 4. 4. 4. 4. 4. 4. 4. 4.\n",
      " 4. 4. 4. 4. 4. 3. 4. 4. 4. 4. 4. 4. 4. 4. 4. 4. 4. 4. 4. 4. 4. 4. 4. 4.\n",
      " 4. 4. 4. 4. 4. 4. 4. 4. 4. 4. 4. 4. 4. 4. 4. 4. 4. 4. 4. 4. 4. 4. 4. 4.\n",
      " 4. 4. 4. 4. 4. 4. 4. 4. 4. 4. 4. 4. 4. 4. 4. 4. 4. 4. 4. 4. 4. 4. 4. 4.\n",
      " 4. 4. 4. 4. 4. 4. 4. 4. 4. 4. 4. 4. 4. 1. 4. 4. 4. 4. 4. 4. 4. 4. 4. 4.\n",
      " 4. 4. 4. 4. 4. 4. 4. 4. 4. 4. 4. 3. 4. 4. 4. 4. 4. 4. 4. 4. 4. 4. 4. 4.\n",
      " 4. 4. 4. 4. 4. 4. 4. 4. 4. 4. 4. 4. 4. 4. 4. 4. 4. 4. 4. 4. 4. 4. 4. 4.\n",
      " 4. 4. 4. 4. 4. 4. 4. 4. 4. 4. 4. 4. 4. 4. 4. 4. 4. 4. 4. 4. 4. 4. 4. 4.\n",
      " 4. 4. 4. 4. 4. 4. 4. 4. 4. 4. 4. 4. 4. 4. 4. 4. 4. 4. 4. 4. 4. 4. 4. 4.\n",
      " 4. 4. 4. 4. 4. 4. 4. 4. 4. 4. 4. 4. 4. 4. 4. 4. 4. 4. 4. 4. 4. 4. 3. 4.\n",
      " 4. 4. 4. 4. 4. 4. 4. 4. 4. 4. 4. 3. 4. 4. 4. 4. 4. 4. 4. 4. 4. 4. 3. 4.\n",
      " 4. 4. 4. 4. 4. 4. 4. 4. 4. 4. 4. 4.]\n"
     ]
    }
   ],
   "source": [
    "n_actv_ocr = np.load('../outputs/first_approach/motifs/n_activated_OCRs.npy')\n",
    "print(n_actv_ocr.shape)\n",
    "print(n_actv_ocr)"
   ]
  },
  {
   "cell_type": "code",
   "execution_count": 34,
   "metadata": {},
   "outputs": [
    {
     "name": "stdout",
     "output_type": "stream",
     "text": [
      "(300, 4)\n",
      "[[1. 1. 1. 1.]\n",
      " [1. 1. 1. 1.]\n",
      " [1. 1. 1. 1.]\n",
      " ...\n",
      " [1. 1. 1. 1.]\n",
      " [1. 1. 1. 1.]\n",
      " [1. 1. 1. 1.]]\n"
     ]
    }
   ],
   "source": [
    "ocr_matrix = np.load('../outputs/first_approach/motifs/OCR_matrix.npy')\n",
    "print(ocr_matrix.shape)\n",
    "print(ocr_matrix)"
   ]
  }
 ],
 "metadata": {
  "kernelspec": {
   "display_name": "Python 3",
   "language": "python",
   "name": "python3"
  },
  "language_info": {
   "codemirror_mode": {
    "name": "ipython",
    "version": 3
   },
   "file_extension": ".py",
   "mimetype": "text/x-python",
   "name": "python",
   "nbconvert_exporter": "python",
   "pygments_lexer": "ipython3",
   "version": "3.8.3"
  }
 },
 "nbformat": 4,
 "nbformat_minor": 4
}
