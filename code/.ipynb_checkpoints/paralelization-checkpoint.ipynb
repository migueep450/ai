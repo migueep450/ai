{
 "cells": [
  {
   "cell_type": "markdown",
   "metadata": {},
   "source": []
  },
  {
   "cell_type": "code",
   "execution_count": 1,
   "metadata": {},
   "outputs": [],
   "source": [
    "import pandas as pd\n",
    "from sklearn.datasets import make_classification\n",
    "from sklearn.model_selection import StratifiedKFold"
   ]
  },
  {
   "cell_type": "code",
   "execution_count": 2,
   "metadata": {},
   "outputs": [],
   "source": [
    "X, y = make_classification(n_samples=100000, n_features=20, n_informative=10, random_state=123) # creamos los datasamples"
   ]
  },
  {
   "cell_type": "code",
   "execution_count": 3,
   "metadata": {},
   "outputs": [
    {
     "data": {
      "text/plain": [
       "array([[-0.57119391,  0.26183573,  2.23013121, ..., -0.81820121,\n",
       "        -3.45493077, -1.51622256],\n",
       "       [ 0.19835662, -0.04736896, -0.22451846, ...,  4.26853226,\n",
       "         0.84458305, -0.82457541],\n",
       "       [-1.49830585,  0.56209058,  1.74125892, ...,  3.54316988,\n",
       "         0.02096739,  0.49084992],\n",
       "       ...,\n",
       "       [-1.55621067,  1.60623044, -1.3471204 , ...,  0.09232235,\n",
       "        -2.79186036, -0.34130441],\n",
       "       [-0.12186344, -1.54264823, -0.63079768, ..., -0.41007347,\n",
       "        -3.64223636,  1.63623005],\n",
       "       [-1.38758112,  0.61788264,  1.19767415, ...,  4.86230724,\n",
       "        -0.70890314,  0.49346758]])"
      ]
     },
     "execution_count": 3,
     "metadata": {},
     "output_type": "execute_result"
    }
   ],
   "source": [
    "X"
   ]
  },
  {
   "cell_type": "code",
   "execution_count": 4,
   "metadata": {},
   "outputs": [
    {
     "data": {
      "text/plain": [
       "array([0, 1, 0, ..., 1, 0, 0])"
      ]
     },
     "execution_count": 4,
     "metadata": {},
     "output_type": "execute_result"
    }
   ],
   "source": [
    "y"
   ]
  },
  {
   "cell_type": "code",
   "execution_count": 5,
   "metadata": {},
   "outputs": [],
   "source": [
    "splitter = StratifiedKFold(n_splits=3, shuffle=True, random_state=123) #creamos los cachos que van a ir separados\n",
    "folds = list(splitter.split(X, y))"
   ]
  },
  {
   "cell_type": "code",
   "execution_count": 6,
   "metadata": {},
   "outputs": [
    {
     "data": {
      "text/plain": [
       "[(array([    0,     1,     2, ..., 99995, 99996, 99998]),\n",
       "  array([    8,    10,    11, ..., 99994, 99997, 99999])),\n",
       " (array([    0,     2,     3, ..., 99996, 99997, 99999]),\n",
       "  array([    1,     5,     7, ..., 99986, 99995, 99998])),\n",
       " (array([    1,     5,     7, ..., 99997, 99998, 99999]),\n",
       "  array([    0,     2,     3, ..., 99987, 99989, 99996]))]"
      ]
     },
     "execution_count": 6,
     "metadata": {},
     "output_type": "execute_result"
    }
   ],
   "source": [
    "folds"
   ]
  },
  {
   "cell_type": "code",
   "execution_count": 7,
   "metadata": {},
   "outputs": [
    {
     "data": {
      "text/plain": [
       "3"
      ]
     },
     "execution_count": 7,
     "metadata": {},
     "output_type": "execute_result"
    }
   ],
   "source": [
    "len(folds)"
   ]
  },
  {
   "cell_type": "code",
   "execution_count": 8,
   "metadata": {},
   "outputs": [
    {
     "data": {
      "text/plain": [
       "2"
      ]
     },
     "execution_count": 8,
     "metadata": {},
     "output_type": "execute_result"
    }
   ],
   "source": [
    "len(folds[0])"
   ]
  },
  {
   "cell_type": "markdown",
   "metadata": {},
   "source": []
  },
  {
   "cell_type": "code",
   "execution_count": 9,
   "metadata": {},
   "outputs": [],
   "source": [
    "from sklearn.metrics import roc_auc_score\n",
    "from sklearn.ensemble import RandomForestClassifier\n",
    "from sklearn.linear_model import LogisticRegression"
   ]
  },
  {
   "cell_type": "code",
   "execution_count": 10,
   "metadata": {},
   "outputs": [],
   "source": [
    "def benchmark_models(X, y, split):\n",
    "    \"\"\"\n",
    "    Helper function to benchmark models\n",
    "    X : array\n",
    "    y : array\n",
    "    split : tuple\n",
    "     Training and test indices (train_idx, test_idx)\n",
    "    \"\"\"\n",
    "    X_train, y_train = X[split[0],:], y[split[0]]\n",
    "    X_test, y_test   = X[split[1],:], y[split[1]]\n",
    "    \n",
    "    \n",
    "    model_library = {} #dictionary\n",
    "    # One candidate model\n",
    "    model_library[\"logit\"] = LogisticRegression(solver='liblinear')\n",
    "    # Another candidate model\n",
    "    model_library[\"rf\"] = RandomForestClassifier(n_estimators=100, min_samples_leaf=20)\n",
    "\n",
    "    results = {} #dictionary\n",
    "    for model_name, model in model_library.items():\n",
    "        # Train the model\n",
    "        model.fit(X_train, y_train)\n",
    "        # Make predictions on the test data\n",
    "        pred_test = model.predict_proba(X_test)[:,1]\n",
    "        # Evaluate the model\n",
    "        results[model_name] = roc_auc_score(y_test, pred_test)\n",
    "    \n",
    "    return pd.DataFrame(results, index = [\"ROC-AUC\"])"
   ]
  },
  {
   "cell_type": "code",
   "execution_count": 11,
   "metadata": {},
   "outputs": [
    {
     "data": {
      "text/html": [
       "<div>\n",
       "<style scoped>\n",
       "    .dataframe tbody tr th:only-of-type {\n",
       "        vertical-align: middle;\n",
       "    }\n",
       "\n",
       "    .dataframe tbody tr th {\n",
       "        vertical-align: top;\n",
       "    }\n",
       "\n",
       "    .dataframe thead th {\n",
       "        text-align: right;\n",
       "    }\n",
       "</style>\n",
       "<table border=\"1\" class=\"dataframe\">\n",
       "  <thead>\n",
       "    <tr style=\"text-align: right;\">\n",
       "      <th></th>\n",
       "      <th>logit</th>\n",
       "      <th>rf</th>\n",
       "    </tr>\n",
       "  </thead>\n",
       "  <tbody>\n",
       "    <tr>\n",
       "      <th>ROC-AUC</th>\n",
       "      <td>0.939087</td>\n",
       "      <td>0.987736</td>\n",
       "    </tr>\n",
       "  </tbody>\n",
       "</table>\n",
       "</div>"
      ],
      "text/plain": [
       "            logit        rf\n",
       "ROC-AUC  0.939087  0.987736"
      ]
     },
     "execution_count": 11,
     "metadata": {},
     "output_type": "execute_result"
    }
   ],
   "source": [
    "benchmark_models(X,y,split=folds[0])\n"
   ]
  },
  {
   "cell_type": "markdown",
   "metadata": {},
   "source": []
  },
  {
   "cell_type": "code",
   "execution_count": 12,
   "metadata": {},
   "outputs": [],
   "source": [
    "import multiprocessing as mp"
   ]
  },
  {
   "cell_type": "code",
   "execution_count": 13,
   "metadata": {},
   "outputs": [],
   "source": [
    "#pool = mp.Pool(2)\n",
    "# Python can count the available cores for you in most cases: mp.cpu_count()\n",
    "pool = mp.Pool(mp.cpu_count()-2)"
   ]
  },
  {
   "cell_type": "code",
   "execution_count": 14,
   "metadata": {},
   "outputs": [],
   "source": [
    "results = []\n",
    "def log_result(x):\n",
    "    results.append(x)"
   ]
  },
  {
   "cell_type": "code",
   "execution_count": 15,
   "metadata": {},
   "outputs": [],
   "source": [
    "for fold in folds:\n",
    "    pool.apply_async(benchmark_models, args=(X, y, fold), callback = log_result)"
   ]
  },
  {
   "cell_type": "code",
   "execution_count": 16,
   "metadata": {},
   "outputs": [],
   "source": [
    "# Close the pool for new tasks\n",
    "pool.close()\n",
    "# Wait for all tasks to complete at this point\n",
    "pool.join()"
   ]
  },
  {
   "cell_type": "code",
   "execution_count": 17,
   "metadata": {},
   "outputs": [],
   "source": [
    "result = pd.concat(results, axis=0, sort=True)"
   ]
  },
  {
   "cell_type": "code",
   "execution_count": 18,
   "metadata": {},
   "outputs": [
    {
     "data": {
      "text/html": [
       "<div>\n",
       "<style scoped>\n",
       "    .dataframe tbody tr th:only-of-type {\n",
       "        vertical-align: middle;\n",
       "    }\n",
       "\n",
       "    .dataframe tbody tr th {\n",
       "        vertical-align: top;\n",
       "    }\n",
       "\n",
       "    .dataframe thead th {\n",
       "        text-align: right;\n",
       "    }\n",
       "</style>\n",
       "<table border=\"1\" class=\"dataframe\">\n",
       "  <thead>\n",
       "    <tr style=\"text-align: right;\">\n",
       "      <th></th>\n",
       "      <th>logit</th>\n",
       "      <th>rf</th>\n",
       "    </tr>\n",
       "  </thead>\n",
       "  <tbody>\n",
       "    <tr>\n",
       "      <th>ROC-AUC</th>\n",
       "      <td>0.939087</td>\n",
       "      <td>0.987924</td>\n",
       "    </tr>\n",
       "    <tr>\n",
       "      <th>ROC-AUC</th>\n",
       "      <td>0.939554</td>\n",
       "      <td>0.989183</td>\n",
       "    </tr>\n",
       "    <tr>\n",
       "      <th>ROC-AUC</th>\n",
       "      <td>0.940639</td>\n",
       "      <td>0.989633</td>\n",
       "    </tr>\n",
       "  </tbody>\n",
       "</table>\n",
       "</div>"
      ],
      "text/plain": [
       "            logit        rf\n",
       "ROC-AUC  0.939087  0.987924\n",
       "ROC-AUC  0.939554  0.989183\n",
       "ROC-AUC  0.940639  0.989633"
      ]
     },
     "execution_count": 18,
     "metadata": {},
     "output_type": "execute_result"
    }
   ],
   "source": [
    "result"
   ]
  },
  {
   "cell_type": "code",
   "execution_count": 19,
   "metadata": {},
   "outputs": [],
   "source": [
    "result.index.name = \"metric\"\n",
    "result.reset_index()\n",
    "average = result.groupby(['metric']).mean()"
   ]
  },
  {
   "cell_type": "code",
   "execution_count": 20,
   "metadata": {},
   "outputs": [
    {
     "data": {
      "text/html": [
       "<div>\n",
       "<style scoped>\n",
       "    .dataframe tbody tr th:only-of-type {\n",
       "        vertical-align: middle;\n",
       "    }\n",
       "\n",
       "    .dataframe tbody tr th {\n",
       "        vertical-align: top;\n",
       "    }\n",
       "\n",
       "    .dataframe thead th {\n",
       "        text-align: right;\n",
       "    }\n",
       "</style>\n",
       "<table border=\"1\" class=\"dataframe\">\n",
       "  <thead>\n",
       "    <tr style=\"text-align: right;\">\n",
       "      <th></th>\n",
       "      <th>logit</th>\n",
       "      <th>rf</th>\n",
       "    </tr>\n",
       "    <tr>\n",
       "      <th>metric</th>\n",
       "      <th></th>\n",
       "      <th></th>\n",
       "    </tr>\n",
       "  </thead>\n",
       "  <tbody>\n",
       "    <tr>\n",
       "      <th>ROC-AUC</th>\n",
       "      <td>0.93976</td>\n",
       "      <td>0.988914</td>\n",
       "    </tr>\n",
       "  </tbody>\n",
       "</table>\n",
       "</div>"
      ],
      "text/plain": [
       "           logit        rf\n",
       "metric                    \n",
       "ROC-AUC  0.93976  0.988914"
      ]
     },
     "execution_count": 20,
     "metadata": {},
     "output_type": "execute_result"
    }
   ],
   "source": [
    "average"
   ]
  },
  {
   "cell_type": "code",
   "execution_count": null,
   "metadata": {},
   "outputs": [],
   "source": [
    "python3 10x10valid.py first '../../obtaining_seqs/mini_sample_one_hot_seqs.npy' '../../obtaining_peaks_values/mini_sample_cell_type_array.npy' '../../obtaining_link_seqs_peaks/mini_sample_peak_names.npy' "
   ]
  }
 ],
 "metadata": {
  "kernelspec": {
   "display_name": "Python 3",
   "language": "python",
   "name": "python3"
  },
  "language_info": {
   "codemirror_mode": {
    "name": "ipython",
    "version": 3
   },
   "file_extension": ".py",
   "mimetype": "text/x-python",
   "name": "python",
   "nbconvert_exporter": "python",
   "pygments_lexer": "ipython3",
   "version": "3.8.3"
  }
 },
 "nbformat": 4,
 "nbformat_minor": 4
}
