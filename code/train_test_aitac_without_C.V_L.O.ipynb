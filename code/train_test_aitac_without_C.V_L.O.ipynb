{
 "cells": [
  {
   "cell_type": "markdown",
   "metadata": {},
   "source": [
    "# Without 10 - fold - cross - validation and Leave out methods"
   ]
  },
  {
   "cell_type": "code",
   "execution_count": null,
   "metadata": {},
   "outputs": [],
   "source": [
    "import numpy as np\n",
    "from numpy import random\n",
    "from sklearn.model_selection import train_test_split\n",
    "import torch.utils.data\n",
    "import matplotlib\n",
    "import os\n",
    "import sys\n",
    "import pathlib\n",
    "matplotlib.use('Agg')\n",
    "\n",
    "import aitac\n",
    "import plot_utils"
   ]
  },
  {
   "cell_type": "code",
   "execution_count": 2,
   "metadata": {},
   "outputs": [],
   "source": [
    "device = torch.device('cuda:0' if torch.cuda.is_available() else 'cpu')"
   ]
  },
  {
   "cell_type": "code",
   "execution_count": 3,
   "metadata": {},
   "outputs": [],
   "source": [
    "# Hyper parameters\n",
    "num_epochs = 10\n",
    "num_classes = 141\n",
    "batch_size = 10\n",
    "learning_rate = 0.001\n",
    "num_filters = 300"
   ]
  },
  {
   "cell_type": "code",
   "execution_count": 4,
   "metadata": {},
   "outputs": [
    {
     "name": "stdout",
     "output_type": "stream",
     "text": [
      "Directory ../outputs/mini_sample/training/ exists\n"
     ]
    }
   ],
   "source": [
    "#create output figure directory\n",
    "model_name = 'mini_sample'\n",
    "output_file_path = \"../outputs/\" + model_name + \"/training/\"\n",
    "directory = os.path.dirname(output_file_path)\n",
    "if not os.path.exists(directory):\n",
    "    print(\"Creating directory %s\" % output_file_path)\n",
    "    pathlib.Path(output_file_path).mkdir(parents=True, exist_ok=True) \n",
    "else:\n",
    "     print(\"Directory %s exists\" % output_file_path)"
   ]
  },
  {
   "cell_type": "code",
   "execution_count": 5,
   "metadata": {},
   "outputs": [],
   "source": [
    "x = np.load('../BRCA_data/mini_sample_one_hot_seqs.npy')\n",
    "x = x.astype(np.float32)\n",
    "y = np.load('../BRCA_data/mini_sample_cell_type_array.npy')\n",
    "y = y.astype(np.float32)\n",
    "peak_names = np.load('../BRCA_data/mini_sample_peak_names.npy')\n",
    "peak_names = peak_names.astype(np.bytes_)"
   ]
  },
  {
   "cell_type": "code",
   "execution_count": null,
   "metadata": {},
   "outputs": [],
   "source": []
  },
  {
   "cell_type": "code",
   "execution_count": 6,
   "metadata": {},
   "outputs": [],
   "source": [
    "# split the data into training and test sets\n",
    "train_data, eval_data, train_labels, eval_labels, train_names, eval_names = train_test_split(x, y, peak_names, test_size=0.1, random_state=40)"
   ]
  },
  {
   "cell_type": "code",
   "execution_count": 7,
   "metadata": {},
   "outputs": [],
   "source": [
    "#print(train_data.shape)\n",
    "#print(train_labels.shape)\n",
    "#print(train_names.shape)\n"
   ]
  },
  {
   "cell_type": "code",
   "execution_count": 8,
   "metadata": {},
   "outputs": [],
   "source": [
    "# Data loader\n",
    "train_dataset = torch.utils.data.TensorDataset(torch.from_numpy(train_data), torch.from_numpy(train_labels))\n",
    "train_loader = torch.utils.data.DataLoader(dataset=train_dataset, batch_size=batch_size, shuffle=False)\n",
    "\n",
    "\n",
    "eval_dataset = torch.utils.data.TensorDataset(torch.from_numpy(eval_data), torch.from_numpy(eval_labels))\n",
    "eval_loader = torch.utils.data.DataLoader(dataset=eval_dataset, batch_size=batch_size, shuffle=False)\n",
    "\n"
   ]
  },
  {
   "cell_type": "code",
   "execution_count": 9,
   "metadata": {},
   "outputs": [],
   "source": [
    "# create model \n",
    "model = aitac.ConvNet(num_classes, num_filters).to(device)\n"
   ]
  },
  {
   "cell_type": "code",
   "execution_count": 10,
   "metadata": {},
   "outputs": [],
   "source": [
    "# Loss and optimizer\n",
    "criterion = aitac.pearson_loss\n",
    "optimizer = torch.optim.Adam(model.parameters(), lr=learning_rate)\n"
   ]
  },
  {
   "cell_type": "code",
   "execution_count": null,
   "metadata": {},
   "outputs": [],
   "source": []
  },
  {
   "cell_type": "code",
   "execution_count": 11,
   "metadata": {},
   "outputs": [
    {
     "name": "stdout",
     "output_type": "stream",
     "text": [
      "Saving the best model weights at Epoch [1], Best Valid Loss: 0.5331\n",
      "Saving the best model weights at Epoch [2], Best Valid Loss: 0.5167\n",
      "Saving the best model weights at Epoch [3], Best Valid Loss: 0.5057\n"
     ]
    }
   ],
   "source": [
    "# train model\n",
    "model, best_loss = aitac.train_model(train_loader, eval_loader, model, device, criterion,  optimizer, num_epochs, output_file_path)\n"
   ]
  },
  {
   "cell_type": "code",
   "execution_count": 12,
   "metadata": {},
   "outputs": [
    {
     "name": "stdout",
     "output_type": "stream",
     "text": [
      "Directory ../models/ exists\n"
     ]
    }
   ],
   "source": [
    "# save the model checkpoint\n",
    "models_file_path = \"../models/\"\n",
    "models_directory = os.path.dirname(models_file_path)\n",
    "if not os.path.exists(models_directory):\n",
    "    print(\"Creating directory %s\" % models_file_path)\n",
    "    os.makedirs(models_directory)\n",
    "else:\n",
    "     print(\"Directory %s exists\" % models_file_path)\n",
    "\n",
    "torch.save(model.state_dict(), '../models/' + model_name + '.ckpt')\n"
   ]
  },
  {
   "cell_type": "code",
   "execution_count": 13,
   "metadata": {},
   "outputs": [],
   "source": [
    "#save the whole model\n",
    "torch.save(model, '../models/' + model_name + '.pth')\n"
   ]
  },
  {
   "cell_type": "code",
   "execution_count": 14,
   "metadata": {},
   "outputs": [],
   "source": [
    "# Predict on test set\n",
    "predictions, max_activations, max_act_index = aitac.test_model(eval_loader, model, device)\n"
   ]
  },
  {
   "cell_type": "code",
   "execution_count": 15,
   "metadata": {},
   "outputs": [
    {
     "name": "stdout",
     "output_type": "stream",
     "text": [
      "Creating plots...\n",
      "weighted_cor is 0.5043595900345061\n",
      "number of NaN values: 0\n"
     ]
    }
   ],
   "source": [
    "# plot the correlations histogram\n",
    "# returns correlation measurement for every prediction-label pair\n",
    "print(\"Creating plots...\")\n",
    "\n",
    "\n",
    "correlations = plot_utils.plot_cors(eval_labels, predictions, output_file_path)"
   ]
  },
  {
   "cell_type": "code",
   "execution_count": 16,
   "metadata": {},
   "outputs": [],
   "source": [
    "plot_utils.plot_corr_variance(eval_labels, correlations, output_file_path)\n"
   ]
  },
  {
   "cell_type": "code",
   "execution_count": 17,
   "metadata": {},
   "outputs": [
    {
     "name": "stderr",
     "output_type": "stream",
     "text": [
      "/home/miguel/anaconda3/lib/python3.8/site-packages/numpy/core/fromnumeric.py:3334: RuntimeWarning: Mean of empty slice.\n",
      "  return _methods._mean(a, axis=axis, dtype=dtype,\n",
      "/home/miguel/anaconda3/lib/python3.8/site-packages/numpy/core/_methods.py:161: RuntimeWarning: invalid value encountered in true_divide\n",
      "  ret = ret.dtype.type(ret / rcount)\n",
      "/home/miguel/anaconda3/lib/python3.8/site-packages/numpy/core/_methods.py:161: RuntimeWarning: invalid value encountered in double_scalars\n",
      "  ret = ret.dtype.type(ret / rcount)\n"
     ]
    },
    {
     "name": "stdout",
     "output_type": "stream",
     "text": [
      "1st sd: nan, 2nd sd: 0.8692730069160461, 3rd sd: 0.812441349029541, 4th sd: 0.8164322376251221\n",
      "1st qr: nan, 2nd qr: 0.9810259103775024, 3rd qr: 1.1518596336245537, 4th qr: 0.7607938684523106\n"
     ]
    }
   ],
   "source": [
    "quantile_indx = plot_utils.plot_piechart(correlations, eval_labels, output_file_path)\n",
    "\n"
   ]
  },
  {
   "cell_type": "code",
   "execution_count": 18,
   "metadata": {},
   "outputs": [],
   "source": [
    "#plot_utils.plot_random_predictions(eval_labels, predictions, correlations, quantile_indx, eval_names, output_file_path)\n"
   ]
  },
  {
   "cell_type": "code",
   "execution_count": 19,
   "metadata": {},
   "outputs": [],
   "source": [
    "#save predictions\n",
    "np.save(output_file_path + \"predictions.npy\", predictions)\n",
    "\n",
    "#save correlations\n",
    "np.save(output_file_path + \"correlations.npy\", correlations)\n",
    "\n",
    "#save max first layer activations\n",
    "np.save(output_file_path + \"max_activations.npy\", max_activations)\n",
    "np.save(output_file_path + \"max_activation_index.npy\", max_act_index)\n",
    "\n",
    "#save test data set\n",
    "np.save(output_file_path + \"test_OCR_names.npy\", eval_names)\n"
   ]
  },
  {
   "cell_type": "code",
   "execution_count": 20,
   "metadata": {},
   "outputs": [
    {
     "name": "stdout",
     "output_type": "stream",
     "text": [
      "(10, 81)\n",
      "[[-2.86464393e-02 -2.54055023e-01 -1.96895465e-01 -3.39933425e-01\n",
      "  -2.34695658e-01 -1.55599892e-01 -1.52297348e-01  5.08297741e-01\n",
      "   8.93353596e-02 -2.96935141e-01 -1.87630534e-01 -1.86651647e-01\n",
      "  -1.00746080e-01 -2.76303232e-01 -1.77532941e-01 -2.63246357e-01\n",
      "  -2.50320673e-01 -1.19697228e-01 -2.84811527e-01 -3.20420861e-01\n",
      "  -3.39516193e-01  1.99190304e-01  3.97057712e-01  2.24804968e-01\n",
      "   4.20901537e-01  2.93686897e-01  2.77857572e-01 -7.96647817e-02\n",
      "  -3.47397089e-01 -1.15854129e-01 -3.83361243e-02  2.47826427e-03\n",
      "  -2.50325114e-01 -2.69547999e-01 -1.96070820e-01  1.87034428e-01\n",
      "   1.39741868e-01 -2.04218522e-01 -2.59569705e-01  1.44902915e-01\n",
      "   1.81711257e-01  2.11720482e-01  1.47468239e-01  1.59467697e-01\n",
      "   1.45012185e-01  1.62869155e-01 -5.96384704e-02  4.40161452e-02\n",
      "  -1.52916070e-02  2.73716431e-02 -1.92085996e-01  6.70953095e-02\n",
      "   1.31481430e-02  6.95892274e-02 -6.29362538e-02 -5.15135340e-02\n",
      "  -2.54632309e-02 -6.22182526e-03 -7.54150599e-02  1.97923943e-01\n",
      "  -1.50314778e-01 -9.82560441e-02 -2.62868982e-02  1.03624016e-01\n",
      "   8.62743035e-02  4.91370857e-02 -1.22183315e-01  5.61744943e-02\n",
      "  -2.66491510e-02  1.97307527e-01 -1.00071114e-02  2.43162900e-01\n",
      "   1.32755861e-01 -3.68082188e-02  2.17936486e-01  2.13607639e-01\n",
      "   1.43634111e-01  4.02171835e-02  1.83016583e-01 -4.91531417e-02\n",
      "  -3.45435530e-01]\n",
      " [-7.19321817e-02 -1.82630479e-01 -1.15225472e-01 -3.06311905e-01\n",
      "  -1.31078690e-01 -9.39555168e-02 -9.60397944e-02  4.94462132e-01\n",
      "   9.89863463e-03 -2.72240907e-01 -1.72720149e-01 -1.41457230e-01\n",
      "  -1.11934870e-01 -2.17189521e-01 -1.32686123e-01 -3.10191989e-01\n",
      "  -2.63509780e-01 -6.51749074e-02 -2.39043579e-01 -2.88040251e-01\n",
      "  -2.95340091e-01  1.75768673e-01  3.09285760e-01  2.17122376e-01\n",
      "   4.01753455e-01  2.02034906e-01  2.74059594e-01 -1.17037892e-01\n",
      "  -3.54943395e-01 -1.60889119e-01 -9.14138481e-02 -6.05785921e-02\n",
      "  -2.57397234e-01 -2.40904152e-01 -2.52527982e-01  1.55220479e-01\n",
      "   1.56360567e-01 -1.41731083e-01 -2.37293154e-01  1.00800544e-01\n",
      "   1.77661628e-01  1.85234070e-01  1.05841279e-01  9.79590863e-02\n",
      "   2.09336877e-01  1.41105831e-01 -9.93214920e-02 -2.05253772e-02\n",
      "   2.14057229e-02  5.81401065e-02 -1.74485743e-01  1.12966970e-01\n",
      "  -1.33372564e-02  3.76389995e-02 -1.02705702e-01 -5.54601476e-02\n",
      "   4.34758514e-03  1.07288221e-03 -1.30193919e-01  1.49839014e-01\n",
      "  -9.15684253e-02 -6.45199493e-02 -3.65142301e-02  6.38488978e-02\n",
      "   8.13742504e-02  3.87221724e-02 -6.96001053e-02  5.16153723e-02\n",
      "  -5.27247041e-02  2.14523956e-01 -1.75778326e-02  2.07891226e-01\n",
      "   1.72316879e-01 -3.68206725e-02  1.82407230e-01  1.70701936e-01\n",
      "   1.04435757e-01  5.52817732e-02  1.48385361e-01  6.10833382e-03\n",
      "  -2.09910393e-01]\n",
      " [-5.57173751e-02 -2.89686412e-01 -2.46657506e-01 -3.91617656e-01\n",
      "  -2.76441008e-01 -2.51049906e-01 -1.99803755e-01  5.41516125e-01\n",
      "   2.34688260e-02 -3.52235675e-01 -2.17017323e-01 -1.92570224e-01\n",
      "  -1.61504537e-01 -3.28136176e-01 -1.67825609e-01 -3.17625165e-01\n",
      "  -2.90525943e-01 -1.69148132e-01 -2.85196453e-01 -4.08646673e-01\n",
      "  -4.18099016e-01  2.01115713e-01  5.21190584e-01  3.23748797e-01\n",
      "   4.95897561e-01  1.93104908e-01  2.90774882e-01 -1.78933740e-01\n",
      "  -4.30347919e-01 -1.40782624e-01 -5.08999750e-02 -1.08263403e-01\n",
      "  -2.23936945e-01 -2.57803082e-01 -2.36378074e-01  1.65027276e-01\n",
      "   1.00487247e-01 -1.96106568e-01 -2.94873357e-01  2.85170346e-01\n",
      "   2.11058319e-01  2.51519293e-01  2.03401893e-01  2.24056408e-01\n",
      "   1.88803211e-01  1.91462457e-01 -1.04066789e-01  1.01940567e-02\n",
      "  -3.18590961e-02 -1.06065080e-03 -1.87390998e-01  7.96697885e-02\n",
      "   1.60516873e-02  1.07441582e-01 -1.03859745e-01 -5.92287965e-02\n",
      "   1.39107183e-03  1.62689723e-02 -5.85995913e-02  2.03262255e-01\n",
      "  -1.35945007e-01 -1.00623176e-01  2.86212787e-02  2.00515285e-01\n",
      "   5.09239882e-02  1.40513092e-01 -1.62849158e-01  1.37844324e-01\n",
      "  -5.00739645e-03  2.56384462e-01  3.95846888e-02  2.17905402e-01\n",
      "   1.42442361e-01 -1.84039995e-02  1.75354078e-01  2.35456437e-01\n",
      "   1.38121963e-01  1.94563717e-03  2.23722786e-01 -1.94542948e-02\n",
      "  -3.44679773e-01]\n",
      " [-2.44523287e-02 -4.83157605e-01 -4.38394010e-01 -6.59966469e-01\n",
      "  -3.80884081e-01 -3.44624519e-01 -3.16030145e-01  8.66183281e-01\n",
      "   4.76717725e-02 -6.46870494e-01 -4.09965426e-01 -3.09254825e-01\n",
      "  -2.78118074e-01 -5.95299304e-01 -2.43140206e-01 -5.47805369e-01\n",
      "  -5.27216733e-01 -2.31834695e-01 -5.61775625e-01 -7.33108759e-01\n",
      "  -7.75357962e-01  3.48139435e-01  9.34211373e-01  6.10816240e-01\n",
      "   9.84504938e-01  3.36785436e-01  5.00354230e-01 -3.99440646e-01\n",
      "  -8.16998541e-01 -2.88280308e-01 -3.03654373e-01 -2.73928761e-01\n",
      "  -4.97976720e-01 -5.12548923e-01 -4.35966432e-01  2.76905477e-01\n",
      "   6.43437952e-02 -3.62961352e-01 -4.86549348e-01  4.25679713e-01\n",
      "   3.63706768e-01  3.92230302e-01  3.40179265e-01  4.26106304e-01\n",
      "   3.95696104e-01  3.76840204e-01 -1.27178609e-01  7.77715296e-02\n",
      "  -2.29690392e-02 -2.14705430e-02 -3.58002603e-01  1.50532797e-01\n",
      "   7.02024624e-02  2.00134888e-01 -5.75219691e-02  3.03284749e-02\n",
      "   1.60232410e-01  9.59363729e-02 -4.30688895e-02  3.92907202e-01\n",
      "  -2.60776639e-01 -2.10843012e-01 -8.06689262e-03  2.88889974e-01\n",
      "   1.81529224e-01  2.38842383e-01 -2.25291431e-01  2.17338413e-01\n",
      "   6.29550032e-03  4.49805021e-01  7.52443969e-02  4.91537094e-01\n",
      "   2.34301299e-01 -8.15619826e-02  2.81969547e-01  3.69775116e-01\n",
      "   2.44887620e-01  1.13083623e-01  2.35512793e-01 -8.67030993e-02\n",
      "  -6.03833199e-01]\n",
      " [-6.09936528e-02 -3.54670405e-01 -2.50335634e-01 -5.97201765e-01\n",
      "  -4.35301811e-01 -2.18130440e-01 -2.76264429e-01  6.32773757e-01\n",
      "   4.79047745e-02 -3.86669815e-01 -2.27066606e-01 -2.79693902e-01\n",
      "  -1.48027733e-01 -4.38360214e-01 -3.79334092e-01 -4.62549031e-01\n",
      "  -4.24482584e-01 -1.02866858e-01 -2.66902566e-01 -2.90035397e-01\n",
      "  -4.01743501e-01  1.14759877e-01  3.01427871e-01  8.80475119e-02\n",
      "   3.96416664e-01  4.59483117e-01  5.29482245e-01 -6.68948591e-02\n",
      "  -5.70041716e-01 -2.41401643e-01 -2.89403126e-02 -9.10922885e-02\n",
      "  -3.83271545e-01 -2.84084588e-01 -3.60302150e-01  3.17237049e-01\n",
      "   3.72873187e-01 -3.34260017e-01 -4.84476149e-01  1.18099973e-01\n",
      "   2.26680055e-01  3.33736688e-01  1.02762900e-01  1.32605746e-01\n",
      "   2.05530629e-01  1.12707630e-01 -1.42233655e-01 -1.06632382e-01\n",
      "  -1.44316226e-01  1.85632944e-01 -3.01300704e-01  1.75477430e-01\n",
      "  -6.02598712e-02  7.51637667e-02 -1.42536625e-01 -1.14110962e-01\n",
      "  -1.85748134e-02  3.42079848e-02 -1.52199984e-01  1.97294384e-01\n",
      "  -9.94835719e-02 -2.57272441e-02 -7.85319507e-02  9.65064839e-02\n",
      "   8.85276645e-02  1.09267838e-01 -9.80827287e-02  1.60746291e-01\n",
      "  -1.27814785e-02  2.84938633e-01  3.01566366e-02  2.58876354e-01\n",
      "   2.48127013e-01 -1.21547848e-01  5.05183399e-01  4.06110048e-01\n",
      "   2.89252847e-01  1.99266180e-01  5.18203080e-01  1.26275763e-01\n",
      "  -3.65150243e-01]\n",
      " [ 1.95365563e-01 -5.61661184e-01 -4.04597521e-01 -8.80199671e-01\n",
      "  -5.77148199e-01 -3.95604998e-01 -1.96090177e-01  5.60928106e-01\n",
      "   3.78291458e-01 -6.53873801e-01 -4.59880710e-01 -9.52733159e-02\n",
      "  -1.14967734e-01 -8.79204214e-01 -3.22101861e-01 -4.61227417e-01\n",
      "  -6.15797520e-01 -3.30447257e-01 -4.87899244e-01 -5.76921642e-01\n",
      "  -7.10945964e-01  6.94289207e-02  6.63142562e-01  2.30958268e-01\n",
      "   7.79862404e-01  5.95913708e-01  3.06432188e-01 -6.43547952e-01\n",
      "  -8.13949645e-01 -3.87280658e-02 -1.86379299e-01 -1.93417996e-01\n",
      "  -5.14669955e-01 -5.01644731e-01 -2.37627283e-01  3.88145477e-01\n",
      "   2.49209404e-01 -4.47346777e-01 -6.50706232e-01 -5.53853139e-02\n",
      "   2.45338138e-02  1.57575414e-01  9.43769515e-03  2.70847172e-01\n",
      "  -7.79021233e-02  1.66574657e-01 -2.50455350e-01 -1.68105751e-01\n",
      "  -4.84287679e-01 -2.58887522e-02 -1.75091937e-01  5.45712650e-01\n",
      "   1.01214260e-01  2.65454859e-01  6.46116510e-02  1.17012307e-01\n",
      "   5.36959291e-01  7.08315432e-01  2.10717022e-01  3.64781320e-01\n",
      "  -2.80075192e-01 -1.66878641e-01  5.67096844e-02  8.04704204e-02\n",
      "  -5.33963107e-02  3.83127570e-01 -3.66232574e-01  5.46011806e-01\n",
      "   1.42341763e-01  3.15348327e-01  5.02292514e-02  3.43082517e-01\n",
      "   3.76552105e-01 -1.48928508e-01  5.04998922e-01  7.52650619e-01\n",
      "   5.57391524e-01  5.41704535e-01  6.32060826e-01  9.31303278e-02\n",
      "  -7.50910819e-01]\n",
      " [-3.96472327e-02 -3.45479906e-01 -2.95201898e-01 -4.35748786e-01\n",
      "  -2.35114753e-01 -2.39980474e-01 -1.47268698e-01  5.47060609e-01\n",
      "   1.38733089e-01 -4.12063837e-01 -3.22038442e-01 -2.00107008e-01\n",
      "  -1.64016545e-01 -3.95861745e-01 -1.19886793e-01 -3.47315162e-01\n",
      "  -3.20145279e-01 -2.01079607e-01 -4.25072402e-01 -5.65445065e-01\n",
      "  -5.54767787e-01  2.62338340e-01  7.21947312e-01  4.17193115e-01\n",
      "   7.41029263e-01  2.68141598e-01  3.27283770e-01 -2.35532075e-01\n",
      "  -4.75480705e-01 -1.40774235e-01 -1.42844111e-01 -1.28680348e-01\n",
      "  -2.82952726e-01 -3.11870247e-01 -2.95559525e-01  1.91461042e-01\n",
      "   8.34205449e-02 -2.51901060e-01 -2.97066182e-01  2.58002341e-01\n",
      "   2.49939725e-01  2.31914565e-01  1.60184771e-01  2.61251539e-01\n",
      "   2.02211857e-01  2.14974314e-01 -1.22827411e-01  5.54478839e-02\n",
      "   3.82036529e-02 -2.14219373e-03 -1.94467112e-01  1.17552370e-01\n",
      "   6.14651963e-02  9.39407796e-02 -8.99187103e-02  1.77534223e-02\n",
      "   8.88236612e-02  9.46730748e-02 -8.91169161e-03  2.47807860e-01\n",
      "  -2.04870820e-01 -2.09285438e-01 -1.84250101e-02  1.79248035e-01\n",
      "   6.85576051e-02  1.08448312e-01 -1.90903813e-01  1.55581400e-01\n",
      "   7.59582594e-03  2.71616966e-01  4.77356836e-02  3.53361070e-01\n",
      "   1.91884935e-01 -3.13407965e-02  1.45865589e-01  2.99149632e-01\n",
      "   1.73730969e-01  5.28862625e-02  1.50958762e-01 -8.28908384e-02\n",
      "  -4.46632832e-01]\n",
      " [ 1.89718865e-02 -4.15739298e-01 -3.53432566e-01 -5.26374042e-01\n",
      "  -4.25130606e-01 -2.96696126e-01 -2.05446780e-01  4.21877325e-01\n",
      "   1.40381128e-01 -4.05821681e-01 -3.13266695e-01 -1.77321881e-01\n",
      "  -9.57913548e-02 -5.64013481e-01 -2.73147672e-01 -3.61029834e-01\n",
      "  -3.48545432e-01 -2.12872118e-01 -3.31955463e-01 -4.18625593e-01\n",
      "  -4.47058827e-01  1.03440039e-01  5.19246876e-01  2.03802183e-01\n",
      "   4.98490602e-01  3.73560965e-01  2.94971079e-01 -3.55928212e-01\n",
      "  -5.34535468e-01 -9.91565809e-02 -1.91153008e-02 -1.04025356e-01\n",
      "  -2.20243424e-01 -3.00119847e-01 -2.04869837e-01  2.36547545e-01\n",
      "   2.28660956e-01 -3.06744725e-01 -4.35693592e-01  1.08712889e-01\n",
      "   1.26474962e-01  1.87812954e-01  2.36938503e-02  2.10775852e-01\n",
      "   6.52808547e-02  6.81473315e-02 -1.89066991e-01 -9.82245654e-02\n",
      "  -2.74152547e-01  9.84743237e-02 -1.37000635e-01  2.79070824e-01\n",
      "  -4.98823356e-04  1.41933411e-01 -1.57991573e-02  3.91477458e-02\n",
      "   2.11841837e-01  3.32148701e-01  7.54712746e-02  1.51136309e-01\n",
      "  -1.91380367e-01 -8.23814049e-02  6.48375750e-02  7.88605735e-02\n",
      "  -2.54447348e-02  1.85618401e-01 -2.09460288e-01  3.02484483e-01\n",
      "   7.07546175e-02  1.91562101e-01  4.10595611e-02  2.39107355e-01\n",
      "   2.19736129e-01 -8.81442428e-02  4.41237271e-01  4.88069385e-01\n",
      "   3.27075720e-01  2.33367696e-01  4.43397939e-01  7.76220262e-02\n",
      "  -5.20047724e-01]\n",
      " [-1.80458799e-01 -4.02628452e-01 -4.52487618e-01 -5.07034957e-01\n",
      "  -3.60737145e-01 -3.15250129e-01 -4.82837975e-01  7.89918303e-01\n",
      "   7.23719411e-03 -4.00836974e-01 -3.72488171e-01 -4.79657918e-01\n",
      "  -1.72068119e-01 -4.06127423e-01 -3.29090893e-01 -4.82236981e-01\n",
      "  -4.29915279e-01 -1.92054391e-01 -4.70805168e-01 -5.88708103e-01\n",
      "  -6.07562363e-01  2.63097584e-01  4.85041142e-01  2.28395462e-01\n",
      "   6.52705252e-01  2.52048045e-01  6.86542988e-01  2.53561229e-01\n",
      "  -5.60371041e-01 -2.12338179e-01  1.31553382e-01  3.17043871e-01\n",
      "  -3.28899711e-01 -3.84422451e-01 -3.94828528e-01  3.94533217e-01\n",
      "   3.53619277e-01 -1.99048698e-01 -2.98535883e-01  2.44969413e-01\n",
      "   5.75466335e-01  6.02501810e-01  3.02972674e-01  2.17727721e-01\n",
      "   3.33483368e-01  1.97080553e-01 -6.82097375e-02 -7.71190673e-02\n",
      "   2.44851261e-01  2.46899113e-01 -3.73096287e-01  1.74951851e-02\n",
      "  -2.67174751e-01  4.62445393e-02 -2.58898735e-01 -2.26991177e-01\n",
      "  -5.08280933e-01 -3.23838651e-01 -3.12464684e-01  2.86856472e-01\n",
      "  -2.26437017e-01 -1.63683057e-01 -8.04212391e-02  3.57476234e-01\n",
      "   2.47468188e-01 -4.79333252e-02 -1.06660023e-01  1.29290253e-01\n",
      "  -1.48778543e-01  1.78889990e-01  8.77275988e-02  2.91058928e-01\n",
      "   1.43091500e-01  1.45210288e-02  3.12359095e-01  3.27735275e-01\n",
      "   1.21467389e-01 -9.17807817e-02  3.00238520e-01 -5.34665510e-02\n",
      "  -4.60263342e-01]\n",
      " [-7.89451450e-02 -2.66023129e-01 -2.65229464e-01 -3.96453500e-01\n",
      "  -3.21984291e-01 -1.40818909e-01 -3.35037917e-01  6.47354007e-01\n",
      "   3.83413807e-02 -2.24998116e-01 -1.74246937e-01 -2.69649714e-01\n",
      "  -1.28783718e-01 -2.94537455e-01 -3.12289000e-01 -3.13901275e-01\n",
      "  -2.62499273e-01 -3.64352390e-02 -2.99389362e-01 -2.82792568e-01\n",
      "  -3.71715397e-01  7.76043460e-02  2.55847067e-01  2.41705142e-02\n",
      "   3.17558438e-01  2.56348521e-01  4.88605142e-01  2.31103644e-01\n",
      "  -3.49560320e-01 -1.67653129e-01  2.01737002e-01  1.84288368e-01\n",
      "  -2.80034572e-01 -2.57616937e-01 -2.56294876e-01  2.96712577e-01\n",
      "   3.31326067e-01 -1.83390975e-01 -2.61163652e-01  1.16330303e-01\n",
      "   2.79351264e-01  3.33280712e-01  1.51137426e-01  7.92119652e-02\n",
      "   2.01894507e-01  1.13107860e-01 -9.53684226e-02 -9.23190042e-02\n",
      "   8.57147872e-02  1.68222383e-01 -3.12090307e-01  1.50605440e-02\n",
      "  -1.25153407e-01  1.95214152e-03 -2.00387433e-01 -1.75428361e-01\n",
      "  -3.24001402e-01 -1.81923032e-01 -2.54982114e-01  1.71815872e-01\n",
      "  -1.43658981e-01 -1.03702031e-01 -1.34189427e-01  2.14369804e-01\n",
      "   1.46931693e-01 -4.15621139e-02 -4.89342026e-02  4.91943061e-02\n",
      "  -1.53789073e-01  1.75731137e-01 -1.91152357e-02  1.73509657e-01\n",
      "   1.66693449e-01 -6.41529709e-02  3.31175387e-01  2.50120878e-01\n",
      "   1.12665839e-01 -8.83228239e-03  3.16967458e-01  6.22741058e-02\n",
      "  -2.76642263e-01]]\n"
     ]
    }
   ],
   "source": [
    "preds = np.load('../outputs/first_approach/training/predictions.npy')\n",
    "preds = preds.astype(np.float32)\n",
    "print(preds.shape)\n",
    "print(preds)"
   ]
  },
  {
   "cell_type": "code",
   "execution_count": 21,
   "metadata": {},
   "outputs": [
    {
     "name": "stdout",
     "output_type": "stream",
     "text": [
      "(10,)\n",
      "[ 0.25016937  0.1202623   0.45097762  0.29923952  0.32403216  0.39362302\n",
      "  0.17025955  0.57016045  0.35901845 -0.10707181]\n"
     ]
    }
   ],
   "source": [
    "corr = np.load('../outputs/first_approach/training/correlations.npy')\n",
    "corr = corr.astype(np.float32)\n",
    "print(corr.shape)\n",
    "print(corr)"
   ]
  },
  {
   "cell_type": "code",
   "execution_count": 22,
   "metadata": {},
   "outputs": [
    {
     "name": "stdout",
     "output_type": "stream",
     "text": [
      "(10, 300)\n",
      "[[0.7485167  0.798457   0.49164894 ... 0.78751886 0.8667381  0.88092035]\n",
      " [0.8127548  0.7196656  0.58814245 ... 0.85957146 0.876065   0.90636307]\n",
      " [0.8324806  0.7036093  0.5567735  ... 0.78909206 0.7539064  0.77290446]\n",
      " ...\n",
      " [0.91021234 0.9436616  0.6237757  ... 0.75349617 1.1155276  0.8165227 ]\n",
      " [0.8433365  0.78347164 0.707476   ... 0.72404957 0.8136774  0.95867497]\n",
      " [0.8048836  0.7528756  0.8367028  ... 0.7510655  0.8746428  0.8321827 ]]\n"
     ]
    }
   ],
   "source": [
    "m_act = np.load('../outputs/first_approach/training/max_activations.npy')\n",
    "m_act = m_act.astype(np.float32)\n",
    "print(m_act.shape)\n",
    "print(m_act)"
   ]
  },
  {
   "cell_type": "code",
   "execution_count": 23,
   "metadata": {},
   "outputs": [
    {
     "name": "stdout",
     "output_type": "stream",
     "text": [
      "(10, 300)\n",
      "[[224. 114. 203. ...  94.  16.  75.]\n",
      " [204. 236.  24. ... 152.  13. 228.]\n",
      " [106. 156. 188. ...   3. 141. 189.]\n",
      " ...\n",
      " [219. 235.  66. ...  77. 229. 127.]\n",
      " [  6. 236. 105. ... 129. 239. 195.]\n",
      " [ 28.  70.  33. ...  88. 230. 208.]]\n"
     ]
    }
   ],
   "source": [
    "m_acti = np.load('../outputs/first_approach/training/max_activation_index.npy')\n",
    "m_acti = m_acti.astype(np.float32)\n",
    "print(m_acti.shape)\n",
    "print(m_acti)"
   ]
  },
  {
   "cell_type": "code",
   "execution_count": 24,
   "metadata": {},
   "outputs": [
    {
     "name": "stdout",
     "output_type": "stream",
     "text": [
      "(10,)\n",
      "[b'ImmGenATAC1219.peak_127' b'ImmGenATAC1219.peak_123'\n",
      " b'ImmGenATAC1219.peak_102' b'ImmGenATAC1219.peak_24'\n",
      " b'ImmGenATAC1219.peak_67' b'ImmGenATAC1219.peak_20'\n",
      " b'ImmGenATAC1219.peak_69' b'ImmGenATAC1219.peak_77'\n",
      " b'ImmGenATAC1219.peak_68' b'ImmGenATAC1219.peak_100']\n"
     ]
    }
   ],
   "source": [
    "t_ocr = np.load('../outputs/first_approach/training/test_OCR_names.npy')\n",
    "#t_ocr = t_ocr.astype(np.float32)\n",
    "print(t_ocr.shape)\n",
    "print(t_ocr)"
   ]
  },
  {
   "cell_type": "markdown",
   "metadata": {},
   "source": [
    "# With 10 - fold - cross - validation and Leave out methods"
   ]
  },
  {
   "cell_type": "code",
   "execution_count": null,
   "metadata": {},
   "outputs": [],
   "source": []
  }
 ],
 "metadata": {
  "kernelspec": {
   "display_name": "Python 3",
   "language": "python",
   "name": "python3"
  },
  "language_info": {
   "codemirror_mode": {
    "name": "ipython",
    "version": 3
   },
   "file_extension": ".py",
   "mimetype": "text/x-python",
   "name": "python",
   "nbconvert_exporter": "python",
   "pygments_lexer": "ipython3",
   "version": "3.8.3"
  }
 },
 "nbformat": 4,
 "nbformat_minor": 4
}
