{
 "cells": [
  {
   "cell_type": "markdown",
   "metadata": {},
   "source": [
    "# Conseguir los datos para ejecutarlos con el modelo"
   ]
  },
  {
   "cell_type": "markdown",
   "metadata": {},
   "source": [
    "## Entender los ficheros obtenidos despues del preprocesado"
   ]
  },
  {
   "cell_type": "code",
   "execution_count": 1,
   "metadata": {},
   "outputs": [],
   "source": [
    "import numpy as np"
   ]
  },
  {
   "cell_type": "markdown",
   "metadata": {},
   "source": [
    "one_hot_seqs.npy = es un archivo donde se guarda la secuencia a analizar.\n",
    "\n",
    "La lista principal tiene 100 listas que representan las secuencias de DNA\n",
    "La lista secundaría contiene 4 listas, una por cada tipo de nucleotido\n",
    "La lista terciaria contiene 256 posiciones, que son las distintas posiciones de la sequencia de ADN\n",
    "\n",
    "Cada nucleotido de cada posicion esta codificado como un 1 en una de las 4 listas secundaria. Ese 1 y resto 0 se encuntran en la misma posición de la lista terciaria."
   ]
  },
  {
   "cell_type": "code",
   "execution_count": 2,
   "metadata": {},
   "outputs": [
    {
     "name": "stdout",
     "output_type": "stream",
     "text": [
      "(100, 4, 251)\n",
      "(4, 251)\n",
      "[[1 0 0 ... 0 0 0]\n",
      " [0 1 1 ... 0 0 0]\n",
      " [0 0 0 ... 1 1 1]\n",
      " [0 0 0 ... 0 0 0]]\n"
     ]
    }
   ],
   "source": [
    "hot_seqs = np.load('one_hot_seqs.npy')\n",
    "print(hot_seqs.shape)\n",
    "print(hot_seqs[0].shape)\n",
    "print(hot_seqs[0])"
   ]
  },
  {
   "cell_type": "markdown",
   "metadata": {},
   "source": [
    "cell_type_array.npy = es un archivo donde se guarda los valores de los peaks\n",
    "\n",
    "la lista principal tiene 100 listas que representan la secuencia de DNA\n",
    "la lista secundaria contiene 81 listas que representan los tipos de células"
   ]
  },
  {
   "cell_type": "code",
   "execution_count": 3,
   "metadata": {},
   "outputs": [
    {
     "name": "stdout",
     "output_type": "stream",
     "text": [
      "(100, 81)\n",
      "(81,)\n",
      "[[1.268562 1.101284 1.21101  ... 1.31831  1.090893 1.3284  ]\n",
      " [1.621759 1.29412  1.525959 ... 1.504244 1.28209  1.3284  ]\n",
      " [1.500516 1.206473 1.525959 ... 1.559985 1.192439 1.216065]\n",
      " ...\n",
      " [6.074599 5.952971 5.654973 ... 6.621884 6.239119 5.796818]\n",
      " [4.374146 3.590978 3.354537 ... 4.254311 3.786275 2.835266]\n",
      " [4.567568 3.092968 3.713192 ... 3.424432 2.714649 2.64792 ]]\n"
     ]
    }
   ],
   "source": [
    "cell_type = np.load('cell_type_array.npy')\n",
    "print(cell_type.shape)\n",
    "print(cell_type[0].shape)\n",
    "print(cell_type)"
   ]
  },
  {
   "cell_type": "markdown",
   "metadata": {},
   "source": [
    "peak_names.npy = nos dice en que posición se encuentral las peaks de las secuencias tal y como estan ordenadas en one_hot_seqs.npy"
   ]
  },
  {
   "cell_type": "code",
   "execution_count": 5,
   "metadata": {},
   "outputs": [
    {
     "name": "stdout",
     "output_type": "stream",
     "text": [
      "(100,)\n",
      "[b'ImmGenATAC1219.peak_3' b'ImmGenATAC1219.peak_4'\n",
      " b'ImmGenATAC1219.peak_6' b'ImmGenATAC1219.peak_7'\n",
      " b'ImmGenATAC1219.peak_8' b'ImmGenATAC1219.peak_10'\n",
      " b'ImmGenATAC1219.peak_12' b'ImmGenATAC1219.peak_14'\n",
      " b'ImmGenATAC1219.peak_15' b'ImmGenATAC1219.peak_18'\n",
      " b'ImmGenATAC1219.peak_19' b'ImmGenATAC1219.peak_20'\n",
      " b'ImmGenATAC1219.peak_21' b'ImmGenATAC1219.peak_22'\n",
      " b'ImmGenATAC1219.peak_23' b'ImmGenATAC1219.peak_24'\n",
      " b'ImmGenATAC1219.peak_27' b'ImmGenATAC1219.peak_29'\n",
      " b'ImmGenATAC1219.peak_30' b'ImmGenATAC1219.peak_31'\n",
      " b'ImmGenATAC1219.peak_33' b'ImmGenATAC1219.peak_35'\n",
      " b'ImmGenATAC1219.peak_36' b'ImmGenATAC1219.peak_38'\n",
      " b'ImmGenATAC1219.peak_41' b'ImmGenATAC1219.peak_43'\n",
      " b'ImmGenATAC1219.peak_46' b'ImmGenATAC1219.peak_48'\n",
      " b'ImmGenATAC1219.peak_50' b'ImmGenATAC1219.peak_52'\n",
      " b'ImmGenATAC1219.peak_53' b'ImmGenATAC1219.peak_54'\n",
      " b'ImmGenATAC1219.peak_56' b'ImmGenATAC1219.peak_59'\n",
      " b'ImmGenATAC1219.peak_60' b'ImmGenATAC1219.peak_61'\n",
      " b'ImmGenATAC1219.peak_62' b'ImmGenATAC1219.peak_64'\n",
      " b'ImmGenATAC1219.peak_67' b'ImmGenATAC1219.peak_68'\n",
      " b'ImmGenATAC1219.peak_69' b'ImmGenATAC1219.peak_71'\n",
      " b'ImmGenATAC1219.peak_73' b'ImmGenATAC1219.peak_75'\n",
      " b'ImmGenATAC1219.peak_76' b'ImmGenATAC1219.peak_77'\n",
      " b'ImmGenATAC1219.peak_78' b'ImmGenATAC1219.peak_79'\n",
      " b'ImmGenATAC1219.peak_80' b'ImmGenATAC1219.peak_81'\n",
      " b'ImmGenATAC1219.peak_82' b'ImmGenATAC1219.peak_83'\n",
      " b'ImmGenATAC1219.peak_84' b'ImmGenATAC1219.peak_85'\n",
      " b'ImmGenATAC1219.peak_86' b'ImmGenATAC1219.peak_87'\n",
      " b'ImmGenATAC1219.peak_91' b'ImmGenATAC1219.peak_92'\n",
      " b'ImmGenATAC1219.peak_93' b'ImmGenATAC1219.peak_95'\n",
      " b'ImmGenATAC1219.peak_96' b'ImmGenATAC1219.peak_97'\n",
      " b'ImmGenATAC1219.peak_100' b'ImmGenATAC1219.peak_102'\n",
      " b'ImmGenATAC1219.peak_103' b'ImmGenATAC1219.peak_104'\n",
      " b'ImmGenATAC1219.peak_107' b'ImmGenATAC1219.peak_108'\n",
      " b'ImmGenATAC1219.peak_109' b'ImmGenATAC1219.peak_111'\n",
      " b'ImmGenATAC1219.peak_114' b'ImmGenATAC1219.peak_115'\n",
      " b'ImmGenATAC1219.peak_117' b'ImmGenATAC1219.peak_119'\n",
      " b'ImmGenATAC1219.peak_120' b'ImmGenATAC1219.peak_123'\n",
      " b'ImmGenATAC1219.peak_124' b'ImmGenATAC1219.peak_125'\n",
      " b'ImmGenATAC1219.peak_126' b'ImmGenATAC1219.peak_127'\n",
      " b'ImmGenATAC1219.peak_130' b'ImmGenATAC1219.peak_131'\n",
      " b'ImmGenATAC1219.peak_132' b'ImmGenATAC1219.peak_133'\n",
      " b'ImmGenATAC1219.peak_136' b'ImmGenATAC1219.peak_137'\n",
      " b'ImmGenATAC1219.peak_138' b'ImmGenATAC1219.peak_139'\n",
      " b'ImmGenATAC1219.peak_140' b'ImmGenATAC1219.peak_141'\n",
      " b'ImmGenATAC1219.peak_142' b'ImmGenATAC1219.peak_145'\n",
      " b'ImmGenATAC1219.peak_146' b'ImmGenATAC1219.peak_147'\n",
      " b'ImmGenATAC1219.peak_150' b'ImmGenATAC1219.peak_153'\n",
      " b'ImmGenATAC1219.peak_157' b'ImmGenATAC1219.peak_158'\n",
      " b'ImmGenATAC1219.peak_159' b'ImmGenATAC1219.peak_160']\n"
     ]
    }
   ],
   "source": [
    "peak_na = np.load('peak_names.npy')\n",
    "print(peak_na.shape)\n",
    "print(peak_na)"
   ]
  },
  {
   "cell_type": "markdown",
   "metadata": {},
   "source": [
    "# Obtener las secuencias para su ejecucion con el preprocesamiento de datos"
   ]
  },
  {
   "cell_type": "markdown",
   "metadata": {},
   "source": [
    "## Creating a mini_sample"
   ]
  },
  {
   "cell_type": "markdown",
   "metadata": {},
   "source": [
    "### Bash Code"
   ]
  },
  {
   "cell_type": "markdown",
   "metadata": {},
   "source": [
    "#### Crear el bed file para ejecutar el bedtool --> columnas separadas por tabs y no encabezados\n",
    "* Primero cogemos 101 sequencias: head -n 101 /storage/mathelierarea/raw/TCGA/ATACseq/counts/BRCA_log2norm.txt > /storage/scratch/miguelap/mini_sample.txt\n",
    "* Segundo creamos bed file para ejecutar el bedtool: cut -f 1-4 /storage/scratch/miguelap/mini_sample.txt | tail -n +2  > /storage/scratch/miguelap/obtaining_seqs/mini_sample_without_seq.bed"
   ]
  },
  {
   "cell_type": "markdown",
   "metadata": {},
   "source": [
    "#### Para obtener las secuencias de ADN necesarias para la ejecución del modelo\n",
    "bedtools getfasta -fi /storage/mathelierarea/raw/UCSC/hg38/Sequence/WholeGenomeFasta/genome.fa -bed  /storage/scratch/miguelap/obtaining_seqs/mini_sample_without_seq.bed -name -fo /storage/scratch/miguelap/obtaining_seqs/mini_sample_seqs_from_BRCA_TCGA.fa"
   ]
  },
  {
   "cell_type": "markdown",
   "metadata": {},
   "source": [
    "#### Obtener las secuencas codificadas para su ejecución \n",
    "python3 from_fasta_to_npy.py mini_sample_seqs_from_BRCA_TCGA.fa mini_sample_one_hot_seqs.npy /storage/scratch/miguelap/obtaining_seqs"
   ]
  },
  {
   "cell_type": "markdown",
   "metadata": {},
   "source": [
    "#### Chekear el archivo creado \n",
    "python3 check_file.py /storage/scratch/miguelap/obtaining_seqs/mini_sample_one_hot_seqs.npy "
   ]
  },
  {
   "cell_type": "markdown",
   "metadata": {},
   "source": [
    "## Crear el Dataset completo"
   ]
  },
  {
   "cell_type": "markdown",
   "metadata": {},
   "source": [
    "### Bash code"
   ]
  },
  {
   "cell_type": "markdown",
   "metadata": {},
   "source": [
    "#### Crear el bed file para ejecutar el bedtool --> columnas separadas por tabs y no encabezados\n",
    "\n",
    "cut -f 1-4 /storage/mathelierarea/raw/TCGA/ATACseq/counts/BRCA_log2norm.txt | tail -n +2 | sed \"s/ /\\t/g\" > /storage/scratch/miguelap/obtaining_seqs/without_seq.bed # I take the information that I need from here"
   ]
  },
  {
   "cell_type": "markdown",
   "metadata": {},
   "source": [
    "#### Para obtener las secuencias de ADN necesarias para la ejecución del modelo\n",
    "bedtools getfasta -fi /storage/mathelierarea/raw/UCSC/hg38/Sequence/WholeGenomeFasta/genome.fa -bed without_seq.bed -name -fo seqs_from_BRCA_TCGA.fa"
   ]
  },
  {
   "cell_type": "markdown",
   "metadata": {},
   "source": [
    "#### Obtener las secuencas codificadas para su ejecución \n",
    "python3 from_fasta_to_npy.py seqs_from_BRCA_TCGA.fa /storage/scratch/miguelap/obtaining_seqs"
   ]
  },
  {
   "cell_type": "markdown",
   "metadata": {},
   "source": [
    "#### Chekear el archivo creado \n",
    "python3 check_file.py /storage/scratch/miguelap/obtaining_seqs/one_hot_seqs.npy "
   ]
  },
  {
   "cell_type": "markdown",
   "metadata": {},
   "source": [
    "# Obtener los peaks values de los pacientes de cada secuencia en una matrix"
   ]
  },
  {
   "cell_type": "markdown",
   "metadata": {},
   "source": [
    "## Creating a mini_sample\n",
    "### Bash code"
   ]
  },
  {
   "cell_type": "markdown",
   "metadata": {},
   "source": [
    "#### Coger los datos del archivo inicial\n",
    "cut -f 6- /storage/scratch/miguelap/mini_sample.txt > /storage/scratch/miguelap/obtaining_peaks_values/mini_sample_peaks_values.txt"
   ]
  },
  {
   "cell_type": "markdown",
   "metadata": {},
   "source": [
    "#### Obtener las matrix codificada para su ejecución \n",
    "python3 from_txt_to_npy_peaks_values.py mini_sample_peaks_values.txt mini_sample_cell_type_array.npy /storage/scratch/miguelap/obtaining_peaks_values"
   ]
  },
  {
   "cell_type": "markdown",
   "metadata": {},
   "source": [
    "#### Chekear el archivo creado \n",
    "python3 check_file.py mini_sample_cell_type_array.npy"
   ]
  },
  {
   "cell_type": "markdown",
   "metadata": {},
   "source": [
    "## Crear el Dataset completo\n",
    "### Bash code"
   ]
  },
  {
   "cell_type": "markdown",
   "metadata": {},
   "source": [
    "#### Coger los datos del archivo inicial\n",
    "cut -f 6- /storage/mathelierarea/raw/TCGA/ATACseq/counts/BRCA_log2norm.txt > /storage/scratch/miguelap/obtaining_peaks_values/peaks_values.txt"
   ]
  },
  {
   "cell_type": "markdown",
   "metadata": {},
   "source": [
    "#### Obtener las matrix codificada para su ejecución \n",
    "python3 from_txt_to_npy_peaks_values.py peaks_values.txt cell_type_array.npy /storage/scratch/miguelap/obtaining_peaks_values"
   ]
  },
  {
   "cell_type": "markdown",
   "metadata": {},
   "source": [
    "#### Chekear el archivo creado \n",
    "python3 check_file.py cell_type_array.npy "
   ]
  },
  {
   "cell_type": "markdown",
   "metadata": {},
   "source": [
    "# Obtener los links entre las sequencias y los peaks"
   ]
  },
  {
   "cell_type": "markdown",
   "metadata": {},
   "source": [
    "## Creating a mini_sample\n",
    "### Bash code"
   ]
  },
  {
   "cell_type": "markdown",
   "metadata": {},
   "source": [
    "#### Obtener el vector \n",
    "python3 creating_links.py /storage/scratch/miguelap/obtaining_link_seqs_peaks mini_sample_peak_names.npy 100"
   ]
  },
  {
   "cell_type": "markdown",
   "metadata": {},
   "source": [
    "#### Chekear el archivo creado \n",
    "python3 check_file.py mini_sample_peak_names.npy"
   ]
  },
  {
   "cell_type": "markdown",
   "metadata": {},
   "source": [
    "## Crear el Dataset completo\n",
    "### Bash code"
   ]
  },
  {
   "cell_type": "markdown",
   "metadata": {},
   "source": [
    "#### Obtener el vector \n",
    "python3 creating_links.py /storage/scratch/miguelap/obtaining_link_seqs_peaks peak_names.npy 215920"
   ]
  },
  {
   "cell_type": "markdown",
   "metadata": {},
   "source": [
    "#### Chekear el archivo creado \n",
    "python3 check_file.py peak_names.npy"
   ]
  },
  {
   "cell_type": "markdown",
   "metadata": {},
   "source": [
    "python train_test_aitac.py mini_sample '../BRCA_data/mini_sample_one_hot_seqs.npy' '../BRCA_data/mini_sample_cell_type_array.npy' '../BRCA_data/mini_sample_peak_names.npy'\n",
    "\n",
    "\n",
    "\n",
    "/storage/scratch/miguelap/AI-TAC/BRCA_data"
   ]
  }
 ],
 "metadata": {
  "kernelspec": {
   "display_name": "Python 3",
   "language": "python",
   "name": "python3"
  },
  "language_info": {
   "codemirror_mode": {
    "name": "ipython",
    "version": 3
   },
   "file_extension": ".py",
   "mimetype": "text/x-python",
   "name": "python",
   "nbconvert_exporter": "python",
   "pygments_lexer": "ipython3",
   "version": "3.8.3"
  }
 },
 "nbformat": 4,
 "nbformat_minor": 4
}
